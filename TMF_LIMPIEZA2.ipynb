{
 "cells": [
  {
   "cell_type": "markdown",
   "metadata": {},
   "source": [
    "## ANÁLISIS BASE DE DATOS "
   ]
  },
  {
   "cell_type": "code",
   "execution_count": null,
   "metadata": {},
   "outputs": [],
   "source": [
    "import pandas as pd\n",
    "import sqlite3\n",
    "import numpy\n",
    "import matplotlib.pyplot as plt\n",
    "import seaborn as sns\n",
    "import numpy as np"
   ]
  },
  {
   "cell_type": "markdown",
   "metadata": {},
   "source": [
    "# PROSIGUE LA LIMPIEZA "
   ]
  },
  {
   "cell_type": "code",
   "execution_count": 3,
   "metadata": {},
   "outputs": [],
   "source": [
    "df=pd.read_csv(\"agostoALIME_SIN_PERC.csv\", sep=',')"
   ]
  },
  {
   "cell_type": "code",
   "execution_count": 4,
   "metadata": {},
   "outputs": [
    {
     "data": {
      "text/plain": [
       "(4725799, 10)"
      ]
     },
     "execution_count": 4,
     "metadata": {},
     "output_type": "execute_result"
    }
   ],
   "source": [
    "df.shape"
   ]
  },
  {
   "cell_type": "markdown",
   "metadata": {},
   "source": [
    "Se tienen 4.725.799 filas de productos que son alimentos. "
   ]
  },
  {
   "cell_type": "code",
   "execution_count": 5,
   "metadata": {},
   "outputs": [
    {
     "data": {
      "text/plain": [
       "28782"
      ]
     },
     "execution_count": 5,
     "metadata": {},
     "output_type": "execute_result"
    }
   ],
   "source": [
    "urlUnique=pd.unique(df['url'])\n",
    "urlUnique.size"
   ]
  },
  {
   "cell_type": "markdown",
   "metadata": {},
   "source": [
    "En concreto, 28.782 alimentos diferentes se encuentran entre los 3 supermercados."
   ]
  },
  {
   "cell_type": "markdown",
   "metadata": {},
   "source": [
    "### VALORES ERRONEOS EN PRICE"
   ]
  },
  {
   "cell_type": "code",
   "execution_count": 6,
   "metadata": {},
   "outputs": [
    {
     "data": {
      "text/plain": [
       "count    4.725799e+06\n",
       "mean     4.868025e+00\n",
       "std      6.295649e+01\n",
       "min      8.000000e-02\n",
       "25%      1.190000e+00\n",
       "50%      1.890000e+00\n",
       "75%      3.000000e+00\n",
       "max      7.915050e+03\n",
       "Name: price, dtype: float64"
      ]
     },
     "execution_count": 6,
     "metadata": {},
     "output_type": "execute_result"
    }
   ],
   "source": [
    "df[\"price\"].describe() "
   ]
  },
  {
   "cell_type": "markdown",
   "metadata": {},
   "source": [
    "Llama la atención los precios del alimento más barato y del más caro. Se realizan gráficas para buscar valores erróneos."
   ]
  },
  {
   "cell_type": "code",
   "execution_count": 7,
   "metadata": {
    "scrolled": true
   },
   "outputs": [
    {
     "name": "stdout",
     "output_type": "stream",
     "text": [
      "AxesSubplot(0.125,0.125;0.775x0.755)\n"
     ]
    },
    {
     "data": {
      "image/png": "[encoded data removed]",
      "text/plain": [
       "<Figure size 432x288 with 1 Axes>"
      ]
     },
     "metadata": {
      "needs_background": "light"
     },
     "output_type": "display_data"
    }
   ],
   "source": [
    "histogram = df['price'].plot.hist()\n",
    "print(histogram)\n",
    "plt.show()"
   ]
  },
  {
   "cell_type": "markdown",
   "metadata": {},
   "source": [
    "El histograma ofrece poca información. Se ve que el mayor porcentaje de precios de los productos se encuentra entre el [0,750] aproximadamente."
   ]
  },
  {
   "cell_type": "code",
   "execution_count": 8,
   "metadata": {},
   "outputs": [
    {
     "data": {
      "image/png": "[encoded data removed]",
      "text/plain": [
       "<Figure size 432x288 with 1 Axes>"
      ]
     },
     "metadata": {
      "needs_background": "light"
     },
     "output_type": "display_data"
    }
   ],
   "source": [
    "boxplot = df.boxplot(column=['price'])\n",
    "boxplot.plot()\n",
    "\n",
    "plt.show()"
   ]
  },
  {
   "cell_type": "markdown",
   "metadata": {},
   "source": [
    "El boxplot muestra que claramente algunos valores de la variable precio, como el 8000, son valores erróneos."
   ]
  },
  {
   "cell_type": "code",
   "execution_count": 9,
   "metadata": {},
   "outputs": [
    {
     "data": {
      "text/plain": [
       "[<matplotlib.lines.Line2D at 0x2e492416ca0>]"
      ]
     },
     "execution_count": 9,
     "metadata": {},
     "output_type": "execute_result"
    },
    {
     "data": {
      "image/png": "[encoded data removed]",
      "text/plain": [
       "<Figure size 432x288 with 1 Axes>"
      ]
     },
     "metadata": {
      "needs_background": "light"
     },
     "output_type": "display_data"
    }
   ],
   "source": [
    "plt.plot(df['price'], \":\",color=\"b\")"
   ]
  },
  {
   "cell_type": "markdown",
   "metadata": {},
   "source": [
    "La última gráfica tampoco no es de mucha utilidad, ya que al tener tantos elementos es difícil observar conclusiones. Por ello, vamos a trabajar con los percentiles"
   ]
  },
  {
   "cell_type": "markdown",
   "metadata": {},
   "source": [
    "###### PERCENTIL 99"
   ]
  },
  {
   "cell_type": "code",
   "execution_count": 10,
   "metadata": {},
   "outputs": [
    {
     "data": {
      "text/plain": [
       "19.19"
      ]
     },
     "execution_count": 10,
     "metadata": {},
     "output_type": "execute_result"
    }
   ],
   "source": [
    "df.price.quantile(0.99) #PERCENTIL 99"
   ]
  },
  {
   "cell_type": "markdown",
   "metadata": {},
   "source": [
    "El percentil 99 es una medida de posición que indica que el 99% de los precios son menores a 19'19€. Como 19'19€ ya si es un precio que se puede encontrar en un supermercado nos quedamos este máximo."
   ]
  },
  {
   "cell_type": "code",
   "execution_count": 11,
   "metadata": {},
   "outputs": [],
   "source": [
    "df=df.drop(df[df['price']>19.19].index) #ELIMINAMOS LOS ELEMENTOS CON UN PRECIO MAYORES AL PERCENTIL 99"
   ]
  },
  {
   "cell_type": "markdown",
   "metadata": {},
   "source": [
    "###### PERCENTIL 1"
   ]
  },
  {
   "cell_type": "code",
   "execution_count": 12,
   "metadata": {},
   "outputs": [
    {
     "data": {
      "text/plain": [
       "0.3"
      ]
     },
     "execution_count": 12,
     "metadata": {},
     "output_type": "execute_result"
    }
   ],
   "source": [
    "df.price.quantile(0.01) #PERCENTIL 1"
   ]
  },
  {
   "cell_type": "markdown",
   "metadata": {},
   "source": [
    "El percentil 1 es una medida de posición que indica, una vez ordenados los datos de menor a mayor, que el 1% de los precios son menores a 0.3."
   ]
  },
  {
   "cell_type": "code",
   "execution_count": 13,
   "metadata": {},
   "outputs": [],
   "source": [
    "df=df.drop(df[df['price']<0.3].index) #ELIMINAMOS ELEMENTOS CON UN PRECIO MENOR AL PERCENTIL 1"
   ]
  },
  {
   "cell_type": "code",
   "execution_count": 14,
   "metadata": {},
   "outputs": [
    {
     "data": {
      "text/html": [
       "<div>\n",
       "<style scoped>\n",
       "    .dataframe tbody tr th:only-of-type {\n",
       "        vertical-align: middle;\n",
       "    }\n",
       "\n",
       "    .dataframe tbody tr th {\n",
       "        vertical-align: top;\n",
       "    }\n",
       "\n",
       "    .dataframe thead th {\n",
       "        text-align: right;\n",
       "    }\n",
       "</style>\n",
       "<table border=\"1\" class=\"dataframe\">\n",
       "  <thead>\n",
       "    <tr style=\"text-align: right;\">\n",
       "      <th></th>\n",
       "      <th>Unnamed: 0</th>\n",
       "      <th>price</th>\n",
       "      <th>reference_price</th>\n",
       "    </tr>\n",
       "  </thead>\n",
       "  <tbody>\n",
       "    <tr>\n",
       "      <th>count</th>\n",
       "      <td>4.636221e+06</td>\n",
       "      <td>4.636221e+06</td>\n",
       "      <td>4.636221e+06</td>\n",
       "    </tr>\n",
       "    <tr>\n",
       "      <th>mean</th>\n",
       "      <td>3.916674e+06</td>\n",
       "      <td>2.616193e+00</td>\n",
       "      <td>1.088053e+01</td>\n",
       "    </tr>\n",
       "    <tr>\n",
       "      <th>std</th>\n",
       "      <td>2.237598e+06</td>\n",
       "      <td>2.412164e+00</td>\n",
       "      <td>1.324324e+02</td>\n",
       "    </tr>\n",
       "    <tr>\n",
       "      <th>min</th>\n",
       "      <td>1.000000e+00</td>\n",
       "      <td>3.000000e-01</td>\n",
       "      <td>8.000000e-03</td>\n",
       "    </tr>\n",
       "    <tr>\n",
       "      <th>25%</th>\n",
       "      <td>2.002041e+06</td>\n",
       "      <td>1.200000e+00</td>\n",
       "      <td>2.420000e+00</td>\n",
       "    </tr>\n",
       "    <tr>\n",
       "      <th>50%</th>\n",
       "      <td>3.900103e+06</td>\n",
       "      <td>1.890000e+00</td>\n",
       "      <td>5.341000e+00</td>\n",
       "    </tr>\n",
       "    <tr>\n",
       "      <th>75%</th>\n",
       "      <td>5.849146e+06</td>\n",
       "      <td>2.990000e+00</td>\n",
       "      <td>9.950000e+00</td>\n",
       "    </tr>\n",
       "    <tr>\n",
       "      <th>max</th>\n",
       "      <td>7.801573e+06</td>\n",
       "      <td>1.919000e+01</td>\n",
       "      <td>1.663333e+04</td>\n",
       "    </tr>\n",
       "  </tbody>\n",
       "</table>\n",
       "</div>"
      ],
      "text/plain": [
       "         Unnamed: 0         price  reference_price\n",
       "count  4.636221e+06  4.636221e+06     4.636221e+06\n",
       "mean   3.916674e+06  2.616193e+00     1.088053e+01\n",
       "std    2.237598e+06  2.412164e+00     1.324324e+02\n",
       "min    1.000000e+00  3.000000e-01     8.000000e-03\n",
       "25%    2.002041e+06  1.200000e+00     2.420000e+00\n",
       "50%    3.900103e+06  1.890000e+00     5.341000e+00\n",
       "75%    5.849146e+06  2.990000e+00     9.950000e+00\n",
       "max    7.801573e+06  1.919000e+01     1.663333e+04"
      ]
     },
     "execution_count": 14,
     "metadata": {},
     "output_type": "execute_result"
    }
   ],
   "source": [
    "df.describe()"
   ]
  },
  {
   "cell_type": "markdown",
   "metadata": {},
   "source": [
    "#### VARIABLE REFERENCE_PRICE"
   ]
  },
  {
   "cell_type": "code",
   "execution_count": 15,
   "metadata": {},
   "outputs": [
    {
     "data": {
      "text/plain": [
       "count    4.636221e+06\n",
       "mean     1.088053e+01\n",
       "std      1.324324e+02\n",
       "min      8.000000e-03\n",
       "25%      2.420000e+00\n",
       "50%      5.341000e+00\n",
       "75%      9.950000e+00\n",
       "max      1.663333e+04\n",
       "Name: reference_price, dtype: float64"
      ]
     },
     "execution_count": 15,
     "metadata": {},
     "output_type": "execute_result"
    }
   ],
   "source": [
    "df[\"reference_price\"].describe() "
   ]
  },
  {
   "cell_type": "markdown",
   "metadata": {},
   "source": [
    "Se vuelve a tener máximos y mínimos extraños para precios de supermercado"
   ]
  },
  {
   "cell_type": "code",
   "execution_count": 16,
   "metadata": {},
   "outputs": [
    {
     "data": {
      "text/plain": [
       "55.63000000000001"
      ]
     },
     "execution_count": 16,
     "metadata": {},
     "output_type": "execute_result"
    }
   ],
   "source": [
    "df.reference_price.quantile(0.99) #PERCENTIL 99"
   ]
  },
  {
   "cell_type": "code",
   "execution_count": 17,
   "metadata": {},
   "outputs": [],
   "source": [
    "#ELIMINAMOS DICHOS ELEMENTOS\n",
    "df=df.drop(df[df['reference_price']>55.63].index) "
   ]
  },
  {
   "cell_type": "code",
   "execution_count": 18,
   "metadata": {},
   "outputs": [
    {
     "data": {
      "text/plain": [
       "0.24"
      ]
     },
     "execution_count": 18,
     "metadata": {},
     "output_type": "execute_result"
    }
   ],
   "source": [
    "df.reference_price.quantile(0.01) #PERCENTIL 1"
   ]
  },
  {
   "cell_type": "code",
   "execution_count": 19,
   "metadata": {},
   "outputs": [],
   "source": [
    "#ELIMINAMOS DICHOS ELEMENTOS\n",
    "df =df.drop(df[df['reference_price']<0.24].index)\n"
   ]
  },
  {
   "cell_type": "code",
   "execution_count": 21,
   "metadata": {},
   "outputs": [
    {
     "data": {
      "text/html": [
       "<div>\n",
       "<style scoped>\n",
       "    .dataframe tbody tr th:only-of-type {\n",
       "        vertical-align: middle;\n",
       "    }\n",
       "\n",
       "    .dataframe tbody tr th {\n",
       "        vertical-align: top;\n",
       "    }\n",
       "\n",
       "    .dataframe thead th {\n",
       "        text-align: right;\n",
       "    }\n",
       "</style>\n",
       "<table border=\"1\" class=\"dataframe\">\n",
       "  <thead>\n",
       "    <tr style=\"text-align: right;\">\n",
       "      <th></th>\n",
       "      <th>Unnamed: 0</th>\n",
       "      <th>price</th>\n",
       "      <th>reference_price</th>\n",
       "    </tr>\n",
       "  </thead>\n",
       "  <tbody>\n",
       "    <tr>\n",
       "      <th>count</th>\n",
       "      <td>4.545448e+06</td>\n",
       "      <td>4.545448e+06</td>\n",
       "      <td>4.545448e+06</td>\n",
       "    </tr>\n",
       "    <tr>\n",
       "      <th>mean</th>\n",
       "      <td>3.915682e+06</td>\n",
       "      <td>2.613899e+00</td>\n",
       "      <td>7.476211e+00</td>\n",
       "    </tr>\n",
       "    <tr>\n",
       "      <th>std</th>\n",
       "      <td>2.237302e+06</td>\n",
       "      <td>2.416155e+00</td>\n",
       "      <td>7.351006e+00</td>\n",
       "    </tr>\n",
       "    <tr>\n",
       "      <th>min</th>\n",
       "      <td>1.000000e+00</td>\n",
       "      <td>3.000000e-01</td>\n",
       "      <td>2.400000e-01</td>\n",
       "    </tr>\n",
       "    <tr>\n",
       "      <th>25%</th>\n",
       "      <td>2.001550e+06</td>\n",
       "      <td>1.200000e+00</td>\n",
       "      <td>2.480000e+00</td>\n",
       "    </tr>\n",
       "    <tr>\n",
       "      <th>50%</th>\n",
       "      <td>3.898880e+06</td>\n",
       "      <td>1.890000e+00</td>\n",
       "      <td>5.340000e+00</td>\n",
       "    </tr>\n",
       "    <tr>\n",
       "      <th>75%</th>\n",
       "      <td>5.847842e+06</td>\n",
       "      <td>2.990000e+00</td>\n",
       "      <td>9.850000e+00</td>\n",
       "    </tr>\n",
       "    <tr>\n",
       "      <th>max</th>\n",
       "      <td>7.801573e+06</td>\n",
       "      <td>1.919000e+01</td>\n",
       "      <td>5.563000e+01</td>\n",
       "    </tr>\n",
       "  </tbody>\n",
       "</table>\n",
       "</div>"
      ],
      "text/plain": [
       "         Unnamed: 0         price  reference_price\n",
       "count  4.545448e+06  4.545448e+06     4.545448e+06\n",
       "mean   3.915682e+06  2.613899e+00     7.476211e+00\n",
       "std    2.237302e+06  2.416155e+00     7.351006e+00\n",
       "min    1.000000e+00  3.000000e-01     2.400000e-01\n",
       "25%    2.001550e+06  1.200000e+00     2.480000e+00\n",
       "50%    3.898880e+06  1.890000e+00     5.340000e+00\n",
       "75%    5.847842e+06  2.990000e+00     9.850000e+00\n",
       "max    7.801573e+06  1.919000e+01     5.563000e+01"
      ]
     },
     "execution_count": 21,
     "metadata": {},
     "output_type": "execute_result"
    }
   ],
   "source": [
    "df.describe()"
   ]
  },
  {
   "cell_type": "code",
   "execution_count": 22,
   "metadata": {},
   "outputs": [
    {
     "data": {
      "text/plain": [
       "(4545448, 10)"
      ]
     },
     "execution_count": 22,
     "metadata": {},
     "output_type": "execute_result"
    }
   ],
   "source": [
    "df.shape"
   ]
  },
  {
   "cell_type": "markdown",
   "metadata": {},
   "source": [
    "### TRANSFORMACIÓN UNIDADES DE MEDIDA Y ELECCIÓN DE FECHA"
   ]
  },
  {
   "cell_type": "markdown",
   "metadata": {},
   "source": [
    "TOMAMOS LA ÚLTIMA ACTUALIZACION DE CADA PRODUCTO"
   ]
  },
  {
   "cell_type": "code",
   "execution_count": 23,
   "metadata": {},
   "outputs": [
    {
     "data": {
      "text/plain": [
       "27595"
      ]
     },
     "execution_count": 23,
     "metadata": {},
     "output_type": "execute_result"
    }
   ],
   "source": [
    "urlUnique=pd.unique(df['url'])\n",
    "urlUnique.size"
   ]
  },
  {
   "cell_type": "code",
   "execution_count": 24,
   "metadata": {},
   "outputs": [],
   "source": [
    "df=df.drop_duplicates(subset=['url'], keep='last', inplace=False, ignore_index=False)"
   ]
  },
  {
   "cell_type": "code",
   "execution_count": 25,
   "metadata": {},
   "outputs": [
    {
     "data": {
      "text/plain": [
       "(27595, 10)"
      ]
     },
     "execution_count": 25,
     "metadata": {},
     "output_type": "execute_result"
    }
   ],
   "source": [
    "df.shape"
   ]
  },
  {
   "cell_type": "code",
   "execution_count": 26,
   "metadata": {},
   "outputs": [],
   "source": [
    "#BORRAR, NO SON COMIDA\n",
    "df=df.drop(df[df['reference_unit']=='m'].index) \n",
    "df=df.drop(df[df['reference_unit']=='lavado'].index) \n",
    "df=df.drop(df[df['reference_unit']=='100ml'].index) "
   ]
  },
  {
   "cell_type": "code",
   "execution_count": 193,
   "metadata": {},
   "outputs": [],
   "source": [
    "###### GUARDAR \n",
    "#df.to_csv('agostoALIME_CON_PERC.csv', sep=',')\n",
    "df=pd.read_csv(\"agostoALIME_CON_PERC.csv\", sep=',')"
   ]
  },
  {
   "cell_type": "markdown",
   "metadata": {},
   "source": [
    "Pasamos los 100g a kg, para poder hacer comparaciones entre los precios."
   ]
  },
  {
   "cell_type": "code",
   "execution_count": 194,
   "metadata": {
    "scrolled": false
   },
   "outputs": [
    {
     "name": "stderr",
     "output_type": "stream",
     "text": [
      "<ipython-input-194-1c21b9d3349d>:3: SettingWithCopyWarning: \n",
      "A value is trying to be set on a copy of a slice from a DataFrame\n",
      "\n",
      "See the caveats in the documentation: https://pandas.pydata.org/pandas-docs/stable/user_guide/indexing.html#returning-a-view-versus-a-copy\n",
      "  df['reference_price'][i]=df['reference_price'][i]*10\n"
     ]
    }
   ],
   "source": [
    "for i, valor in enumerate(df['reference_unit']):\n",
    "    if valor==\"100g\":\n",
    "        df['reference_price'][i]=df['reference_price'][i]*10"
   ]
  },
  {
   "cell_type": "code",
   "execution_count": 195,
   "metadata": {},
   "outputs": [],
   "source": [
    "df=df.replace({\"100g\":\"kg\"})"
   ]
  },
  {
   "cell_type": "markdown",
   "metadata": {},
   "source": [
    "Pasamos los g a kg, para poder hacer comparaciones entre los precios."
   ]
  },
  {
   "cell_type": "code",
   "execution_count": 196,
   "metadata": {},
   "outputs": [
    {
     "name": "stderr",
     "output_type": "stream",
     "text": [
      "<ipython-input-196-7f513013e75b>:3: SettingWithCopyWarning: \n",
      "A value is trying to be set on a copy of a slice from a DataFrame\n",
      "\n",
      "See the caveats in the documentation: https://pandas.pydata.org/pandas-docs/stable/user_guide/indexing.html#returning-a-view-versus-a-copy\n",
      "  df['reference_price'][i]=df['reference_price'][i]*1000\n"
     ]
    }
   ],
   "source": [
    "for i, valor in enumerate(df['reference_unit']):\n",
    "    if valor==\"g\":\n",
    "        df['reference_price'][i]=df['reference_price'][i]*1000"
   ]
  },
  {
   "cell_type": "code",
   "execution_count": 197,
   "metadata": {},
   "outputs": [],
   "source": [
    "df=df.replace({\"g\":\"kg\"})"
   ]
  },
  {
   "cell_type": "markdown",
   "metadata": {},
   "source": [
    "COMPROBAMOS QUE CON LOS CAMBIOS NO TENEMOS VALORES MUY ALTOS EN REFERENCE_PRICE"
   ]
  },
  {
   "cell_type": "code",
   "execution_count": 198,
   "metadata": {},
   "outputs": [
    {
     "data": {
      "text/plain": [
       "[<matplotlib.lines.Line2D at 0x24a148b6490>]"
      ]
     },
     "execution_count": 198,
     "metadata": {},
     "output_type": "execute_result"
    },
    {
     "data": {
      "image/png": "[encoded data removed]",
      "text/plain": [
       "<Figure size 432x288 with 1 Axes>"
      ]
     },
     "metadata": {
      "needs_background": "light"
     },
     "output_type": "display_data"
    }
   ],
   "source": [
    "plt.plot(df['reference_price'], \":\",color=\"b\")"
   ]
  },
  {
   "cell_type": "markdown",
   "metadata": {},
   "source": [
    "BORRAMOS LOS VALORES MAYORES QUE 60"
   ]
  },
  {
   "cell_type": "code",
   "execution_count": 199,
   "metadata": {},
   "outputs": [],
   "source": [
    "df=df.drop(df[df['reference_price']>60].index) "
   ]
  },
  {
   "cell_type": "markdown",
   "metadata": {},
   "source": [
    "Nos quedamos únicamente con los alimentos con fecha del 15-06-2022 al 15-08-2022"
   ]
  },
  {
   "cell_type": "code",
   "execution_count": 200,
   "metadata": {},
   "outputs": [
    {
     "data": {
      "text/plain": [
       "(27566, 11)"
      ]
     },
     "execution_count": 200,
     "metadata": {},
     "output_type": "execute_result"
    }
   ],
   "source": [
    "df.shape"
   ]
  },
  {
   "cell_type": "code",
   "execution_count": 201,
   "metadata": {},
   "outputs": [],
   "source": [
    "df=df[(df['insert_date'] == '2022-08-01 00:00:00') | (df['insert_date'] == '2022-08-02 00:00:00')| (df['insert_date'] == '2022-08-03 00:00:00')| (df['insert_date'] == '2022-08-04 00:00:00')| (df['insert_date'] == '2022-08-05 00:00:00')| (df['insert_date'] == '2022-08-06 00:00:00')| (df['insert_date'] == '2022-08-07 00:00:00')| (df['insert_date'] == '2022-08-08 00:00:00')| (df['insert_date'] == '2022-08-09 00:00:00')| (df['insert_date'] == '2022-08-10 00:00:00')| (df['insert_date'] == '2022-08-11 00:00:00')| (df['insert_date'] == '2022-08-12 00:00:00')| (df['insert_date'] == '2022-08-13 00:00:00')| (df['insert_date'] == '2022-08-14 00:00:00')| (df['insert_date'] == '2022-08-15 00:00:00')| (df['insert_date'] == '2022-07-31 00:00:00')| (df['insert_date'] == '2022-07-30 00:00:00')| (df['insert_date'] == '2022-07-29 00:00:00')| (df['insert_date'] == '2022-07-28 00:00:00')| (df['insert_date'] == '2022-07-27 00:00:00')| (df['insert_date'] == '2022-07-26 00:00:00')| (df['insert_date'] == '2022-07-25 00:00:00')| (df['insert_date'] == '2022-07-24 00:00:00')| (df['insert_date'] == '2022-07-23 00:00:00')| (df['insert_date'] == '2022-07-22 00:00:00')| (df['insert_date'] == '2022-07-21 00:00:00')| (df['insert_date'] == '2022-07-20 00:00:00')| (df['insert_date'] == '2022-07-19 00:00:00')| (df['insert_date'] == '2022-07-18 00:00:00')| (df['insert_date'] == '2022-07-17 00:00:00')| (df['insert_date'] == '2022-07-16 00:00:00')| (df['insert_date'] == '2022-07-15 00:00:00')| (df['insert_date'] == '2022-07-14 00:00:00')| (df['insert_date'] == '2022-07-13 00:00:00')| (df['insert_date'] == '2022-07-12 00:00:00')| (df['insert_date'] == '2022-07-11 00:00:00')| (df['insert_date'] == '2022-07-10 00:00:00')| (df['insert_date'] == '2022-07-09 00:00:00')| (df['insert_date'] == '2022-07-08 00:00:00')| (df['insert_date'] == '2022-07-07 00:00:00')| (df['insert_date'] == '2022-07-06 00:00:00')| (df['insert_date'] == '2022-07-05 00:00:00')| (df['insert_date'] == '2022-07-04 00:00:00')| (df['insert_date'] == '2022-07-03 00:00:00')| (df['insert_date'] == '2022-07-02 00:00:00')| (df['insert_date'] == '2022-07-01 00:00:00')| (df['insert_date'] == '2022-06-30 00:00:00')| (df['insert_date'] == '2022-06-29 00:00:00')| (df['insert_date'] == '2022-06-28 00:00:00')| (df['insert_date'] == '2022-06-27 00:00:00')| (df['insert_date'] == '2022-06-26 00:00:00')| (df['insert_date'] == '2022-06-25 00:00:00')| (df['insert_date'] == '2022-06-24 00:00:00')| (df['insert_date'] == '2022-06-23 00:00:00')| (df['insert_date'] == '2022-06-22 00:00:00')| (df['insert_date'] == '2022-06-21 00:00:00')| (df['insert_date'] == '2022-06-20 00:00:00')| (df['insert_date'] == '2022-06-19 00:00:00')| (df['insert_date'] == '2022-06-18 00:00:00')| (df['insert_date'] == '2022-06-17 00:00:00')| (df['insert_date'] == '2022-06-16 00:00:00')| (df['insert_date'] == '2022-06-15 00:00:00')]"
   ]
  },
  {
   "cell_type": "code",
   "execution_count": 202,
   "metadata": {},
   "outputs": [
    {
     "data": {
      "text/plain": [
       "(11439, 11)"
      ]
     },
     "execution_count": 202,
     "metadata": {},
     "output_type": "execute_result"
    }
   ],
   "source": [
    "df.shape"
   ]
  },
  {
   "cell_type": "markdown",
   "metadata": {},
   "source": [
    "Comprobamos que en todas las categorías se tenga un número elevado de productos. "
   ]
  },
  {
   "cell_type": "code",
   "execution_count": 203,
   "metadata": {},
   "outputs": [
    {
     "data": {
      "text/plain": [
       "(132, 11)"
      ]
     },
     "execution_count": 203,
     "metadata": {},
     "output_type": "execute_result"
    }
   ],
   "source": [
    "df[(df['category'] == 'agua')].shape"
   ]
  },
  {
   "cell_type": "code",
   "execution_count": 204,
   "metadata": {},
   "outputs": [
    {
     "data": {
      "text/plain": [
       "(301, 11)"
      ]
     },
     "execution_count": 204,
     "metadata": {},
     "output_type": "execute_result"
    }
   ],
   "source": [
    "df[(df['category'] == 'fruta')].shape"
   ]
  },
  {
   "cell_type": "code",
   "execution_count": 205,
   "metadata": {},
   "outputs": [
    {
     "data": {
      "text/plain": [
       "(692, 11)"
      ]
     },
     "execution_count": 205,
     "metadata": {},
     "output_type": "execute_result"
    }
   ],
   "source": [
    "df[(df['category'] == 'verduras')].shape"
   ]
  },
  {
   "cell_type": "code",
   "execution_count": 206,
   "metadata": {},
   "outputs": [
    {
     "data": {
      "text/plain": [
       "(226, 11)"
      ]
     },
     "execution_count": 206,
     "metadata": {},
     "output_type": "execute_result"
    }
   ],
   "source": [
    "df[(df['category'] == 'cereales')].shape"
   ]
  },
  {
   "cell_type": "code",
   "execution_count": 207,
   "metadata": {},
   "outputs": [
    {
     "data": {
      "text/plain": [
       "(301, 11)"
      ]
     },
     "execution_count": 207,
     "metadata": {},
     "output_type": "execute_result"
    }
   ],
   "source": [
    "df[(df['category'] == 'pan')].shape"
   ]
  },
  {
   "cell_type": "code",
   "execution_count": 208,
   "metadata": {},
   "outputs": [
    {
     "data": {
      "text/plain": [
       "(99, 11)"
      ]
     },
     "execution_count": 208,
     "metadata": {},
     "output_type": "execute_result"
    }
   ],
   "source": [
    "df[(df['category'] == 'frutos_secos')].shape"
   ]
  },
  {
   "cell_type": "code",
   "execution_count": 209,
   "metadata": {},
   "outputs": [
    {
     "data": {
      "text/plain": [
       "(132, 11)"
      ]
     },
     "execution_count": 209,
     "metadata": {},
     "output_type": "execute_result"
    }
   ],
   "source": [
    "df[(df['category'] == 'legumbres')].shape"
   ]
  },
  {
   "cell_type": "code",
   "execution_count": 210,
   "metadata": {},
   "outputs": [
    {
     "data": {
      "text/plain": [
       "(0, 11)"
      ]
     },
     "execution_count": 210,
     "metadata": {},
     "output_type": "execute_result"
    }
   ],
   "source": [
    "df[(df['category'] == 'AOVE')].shape"
   ]
  },
  {
   "cell_type": "code",
   "execution_count": 211,
   "metadata": {},
   "outputs": [
    {
     "data": {
      "text/plain": [
       "(122, 11)"
      ]
     },
     "execution_count": 211,
     "metadata": {},
     "output_type": "execute_result"
    }
   ],
   "source": [
    "df[(df['category'] == 'aceite_vinagre')].shape"
   ]
  },
  {
   "cell_type": "code",
   "execution_count": 212,
   "metadata": {},
   "outputs": [
    {
     "data": {
      "text/plain": [
       "(42, 11)"
      ]
     },
     "execution_count": 212,
     "metadata": {},
     "output_type": "execute_result"
    }
   ],
   "source": [
    "df[(df['category'] == 'huevos')].shape"
   ]
  },
  {
   "cell_type": "code",
   "execution_count": 213,
   "metadata": {},
   "outputs": [
    {
     "data": {
      "text/plain": [
       "(106, 11)"
      ]
     },
     "execution_count": 213,
     "metadata": {},
     "output_type": "execute_result"
    }
   ],
   "source": [
    "df[(df['category'] == 'leche')].shape"
   ]
  },
  {
   "cell_type": "code",
   "execution_count": 214,
   "metadata": {},
   "outputs": [
    {
     "data": {
      "text/plain": [
       "(94, 11)"
      ]
     },
     "execution_count": 214,
     "metadata": {},
     "output_type": "execute_result"
    }
   ],
   "source": [
    "df[(df['category'] == 'mantequilla')].shape"
   ]
  },
  {
   "cell_type": "code",
   "execution_count": 215,
   "metadata": {},
   "outputs": [
    {
     "data": {
      "text/plain": [
       "(644, 11)"
      ]
     },
     "execution_count": 215,
     "metadata": {},
     "output_type": "execute_result"
    }
   ],
   "source": [
    "df[(df['category'] == 'pescado_marisco')].shape"
   ]
  },
  {
   "cell_type": "code",
   "execution_count": 216,
   "metadata": {},
   "outputs": [
    {
     "data": {
      "text/plain": [
       "(106, 11)"
      ]
     },
     "execution_count": 216,
     "metadata": {},
     "output_type": "execute_result"
    }
   ],
   "source": [
    "df[(df['category'] == 'carne_blanca')].shape"
   ]
  },
  {
   "cell_type": "code",
   "execution_count": 217,
   "metadata": {},
   "outputs": [
    {
     "data": {
      "text/plain": [
       "(168, 11)"
      ]
     },
     "execution_count": 217,
     "metadata": {},
     "output_type": "execute_result"
    }
   ],
   "source": [
    "df[(df['category'] == 'carne_roja')].shape"
   ]
  },
  {
   "cell_type": "code",
   "execution_count": 218,
   "metadata": {},
   "outputs": [
    {
     "data": {
      "text/plain": [
       "(167, 11)"
      ]
     },
     "execution_count": 218,
     "metadata": {},
     "output_type": "execute_result"
    }
   ],
   "source": [
    "df[(df['category'] == 'carne_roja_blanca')].shape"
   ]
  },
  {
   "cell_type": "code",
   "execution_count": 219,
   "metadata": {},
   "outputs": [
    {
     "data": {
      "text/plain": [
       "(200, 11)"
      ]
     },
     "execution_count": 219,
     "metadata": {},
     "output_type": "execute_result"
    }
   ],
   "source": [
    "df[(df['category'] == 'azucar')].shape"
   ]
  },
  {
   "cell_type": "code",
   "execution_count": 220,
   "metadata": {},
   "outputs": [
    {
     "data": {
      "text/plain": [
       "(128, 11)"
      ]
     },
     "execution_count": 220,
     "metadata": {},
     "output_type": "execute_result"
    }
   ],
   "source": [
    "df[(df['category'] == 'especias')].shape"
   ]
  },
  {
   "cell_type": "code",
   "execution_count": 221,
   "metadata": {},
   "outputs": [
    {
     "data": {
      "text/plain": [
       "(186, 11)"
      ]
     },
     "execution_count": 221,
     "metadata": {},
     "output_type": "execute_result"
    }
   ],
   "source": [
    "df[(df['category'] == 'harina')].shape"
   ]
  },
  {
   "cell_type": "code",
   "execution_count": 222,
   "metadata": {},
   "outputs": [
    {
     "data": {
      "text/plain": [
       "(500, 11)"
      ]
     },
     "execution_count": 222,
     "metadata": {},
     "output_type": "execute_result"
    }
   ],
   "source": [
    "df[(df['category'] == 'refrescos')].shape"
   ]
  },
  {
   "cell_type": "code",
   "execution_count": 223,
   "metadata": {},
   "outputs": [
    {
     "data": {
      "text/plain": [
       "(257, 11)"
      ]
     },
     "execution_count": 223,
     "metadata": {},
     "output_type": "execute_result"
    }
   ],
   "source": [
    "df[(df['category'] == 'te_cafe')].shape"
   ]
  },
  {
   "cell_type": "code",
   "execution_count": 224,
   "metadata": {},
   "outputs": [
    {
     "data": {
      "text/plain": [
       "(417, 11)"
      ]
     },
     "execution_count": 224,
     "metadata": {},
     "output_type": "execute_result"
    }
   ],
   "source": [
    "df[(df['category'] == 'merienda')].shape"
   ]
  },
  {
   "cell_type": "code",
   "execution_count": 225,
   "metadata": {},
   "outputs": [
    {
     "data": {
      "text/plain": [
       "(325, 11)"
      ]
     },
     "execution_count": 225,
     "metadata": {},
     "output_type": "execute_result"
    }
   ],
   "source": [
    "df[(df['category'] == 'bolleria')].shape"
   ]
  },
  {
   "cell_type": "code",
   "execution_count": 226,
   "metadata": {},
   "outputs": [
    {
     "data": {
      "text/plain": [
       "(635, 11)"
      ]
     },
     "execution_count": 226,
     "metadata": {},
     "output_type": "execute_result"
    }
   ],
   "source": [
    "df[(df['category'] == 'chocolate')].shape"
   ]
  },
  {
   "cell_type": "code",
   "execution_count": 227,
   "metadata": {},
   "outputs": [
    {
     "data": {
      "text/plain": [
       "(447, 11)"
      ]
     },
     "execution_count": 227,
     "metadata": {},
     "output_type": "execute_result"
    }
   ],
   "source": [
    "df[(df['category'] == 'snacks')].shape"
   ]
  },
  {
   "cell_type": "code",
   "execution_count": 228,
   "metadata": {},
   "outputs": [
    {
     "data": {
      "text/plain": [
       "(565, 11)"
      ]
     },
     "execution_count": 228,
     "metadata": {},
     "output_type": "execute_result"
    }
   ],
   "source": [
    "df[(df['category'] == 'embutido')].shape"
   ]
  },
  {
   "cell_type": "code",
   "execution_count": 229,
   "metadata": {},
   "outputs": [
    {
     "data": {
      "text/plain": [
       "(230, 11)"
      ]
     },
     "execution_count": 229,
     "metadata": {},
     "output_type": "execute_result"
    }
   ],
   "source": [
    "df[(df['category'] == 'zumo')].shape"
   ]
  },
  {
   "cell_type": "code",
   "execution_count": 230,
   "metadata": {},
   "outputs": [
    {
     "data": {
      "text/plain": [
       "(1270, 11)"
      ]
     },
     "execution_count": 230,
     "metadata": {},
     "output_type": "execute_result"
    }
   ],
   "source": [
    "df[(df['category'] == 'alcohol')].shape"
   ]
  },
  {
   "cell_type": "code",
   "execution_count": 231,
   "metadata": {},
   "outputs": [
    {
     "data": {
      "text/plain": [
       "(281, 11)"
      ]
     },
     "execution_count": 231,
     "metadata": {},
     "output_type": "execute_result"
    }
   ],
   "source": [
    "df[(df['category'] == 'postre')].shape"
   ]
  },
  {
   "cell_type": "code",
   "execution_count": 232,
   "metadata": {},
   "outputs": [
    {
     "data": {
      "text/plain": [
       "(609, 11)"
      ]
     },
     "execution_count": 232,
     "metadata": {},
     "output_type": "execute_result"
    }
   ],
   "source": [
    "df[(df['category'] == 'yogures')].shape"
   ]
  },
  {
   "cell_type": "code",
   "execution_count": 233,
   "metadata": {},
   "outputs": [
    {
     "data": {
      "text/plain": [
       "(564, 11)"
      ]
     },
     "execution_count": 233,
     "metadata": {},
     "output_type": "execute_result"
    }
   ],
   "source": [
    "df[(df['category'] == 'precocinado')].shape"
   ]
  },
  {
   "cell_type": "code",
   "execution_count": 234,
   "metadata": {},
   "outputs": [
    {
     "data": {
      "text/plain": [
       "(111, 11)"
      ]
     },
     "execution_count": 234,
     "metadata": {},
     "output_type": "execute_result"
    }
   ],
   "source": [
    "df[(df['category'] == 'sopas')].shape"
   ]
  },
  {
   "cell_type": "code",
   "execution_count": 245,
   "metadata": {},
   "outputs": [
    {
     "data": {
      "text/plain": [
       "(328, 9)"
      ]
     },
     "execution_count": 245,
     "metadata": {},
     "output_type": "execute_result"
    }
   ],
   "source": [
    "df[(df['category'] == 'helados')].shape"
   ]
  },
  {
   "cell_type": "code",
   "execution_count": 237,
   "metadata": {},
   "outputs": [
    {
     "data": {
      "text/plain": [
       "(237, 11)"
      ]
     },
     "execution_count": 237,
     "metadata": {},
     "output_type": "execute_result"
    }
   ],
   "source": [
    "df[(df['category'] == 'salsas')].shape"
   ]
  },
  {
   "cell_type": "code",
   "execution_count": 238,
   "metadata": {},
   "outputs": [
    {
     "data": {
      "text/plain": [
       "(817, 11)"
      ]
     },
     "execution_count": 238,
     "metadata": {},
     "output_type": "execute_result"
    }
   ],
   "source": [
    "df[(df['category'] == 'quesos')].shape"
   ]
  },
  {
   "cell_type": "markdown",
   "metadata": {},
   "source": [
    "Comprobamos los alimentos que se han eliminado"
   ]
  },
  {
   "cell_type": "code",
   "execution_count": 239,
   "metadata": {},
   "outputs": [
    {
     "data": {
      "text/plain": [
       "(11439, 11)"
      ]
     },
     "execution_count": 239,
     "metadata": {},
     "output_type": "execute_result"
    }
   ],
   "source": [
    "df.shape"
   ]
  },
  {
   "cell_type": "code",
   "execution_count": 240,
   "metadata": {},
   "outputs": [
    {
     "data": {
      "text/plain": [
       "array(['2022-06-15 00:00:00', '2022-06-16 00:00:00',\n",
       "       '2022-06-17 00:00:00', '2022-06-18 00:00:00',\n",
       "       '2022-06-19 00:00:00', '2022-06-20 00:00:00',\n",
       "       '2022-06-21 00:00:00', '2022-06-22 00:00:00',\n",
       "       '2022-06-23 00:00:00', '2022-06-24 00:00:00',\n",
       "       '2022-06-25 00:00:00', '2022-06-26 00:00:00',\n",
       "       '2022-06-27 00:00:00', '2022-06-28 00:00:00',\n",
       "       '2022-06-29 00:00:00', '2022-06-30 00:00:00',\n",
       "       '2022-07-01 00:00:00', '2022-07-02 00:00:00',\n",
       "       '2022-07-03 00:00:00', '2022-07-04 00:00:00',\n",
       "       '2022-07-05 00:00:00', '2022-07-06 00:00:00',\n",
       "       '2022-07-07 00:00:00', '2022-07-08 00:00:00',\n",
       "       '2022-07-09 00:00:00', '2022-07-10 00:00:00',\n",
       "       '2022-07-11 00:00:00', '2022-07-12 00:00:00',\n",
       "       '2022-07-13 00:00:00', '2022-07-14 00:00:00',\n",
       "       '2022-07-15 00:00:00', '2022-07-16 00:00:00',\n",
       "       '2022-07-17 00:00:00', '2022-07-18 00:00:00',\n",
       "       '2022-07-19 00:00:00', '2022-07-20 00:00:00',\n",
       "       '2022-07-21 00:00:00', '2022-07-22 00:00:00',\n",
       "       '2022-07-23 00:00:00', '2022-07-24 00:00:00',\n",
       "       '2022-07-25 00:00:00', '2022-07-26 00:00:00',\n",
       "       '2022-07-27 00:00:00', '2022-07-28 00:00:00',\n",
       "       '2022-07-29 00:00:00', '2022-07-30 00:00:00',\n",
       "       '2022-07-31 00:00:00', '2022-08-01 00:00:00',\n",
       "       '2022-08-02 00:00:00', '2022-08-03 00:00:00',\n",
       "       '2022-08-04 00:00:00', '2022-08-05 00:00:00',\n",
       "       '2022-08-06 00:00:00', '2022-08-07 00:00:00',\n",
       "       '2022-08-08 00:00:00', '2022-08-09 00:00:00',\n",
       "       '2022-08-10 00:00:00', '2022-08-11 00:00:00',\n",
       "       '2022-08-12 00:00:00', '2022-08-13 00:00:00',\n",
       "       '2022-08-14 00:00:00', '2022-08-15 00:00:00'], dtype=object)"
      ]
     },
     "execution_count": 240,
     "metadata": {},
     "output_type": "execute_result"
    }
   ],
   "source": [
    "Unique=pd.unique(df['insert_date'])\n",
    "Unique"
   ]
  },
  {
   "cell_type": "code",
   "execution_count": 241,
   "metadata": {},
   "outputs": [],
   "source": [
    "del(df['Unnamed: 0'])"
   ]
  },
  {
   "cell_type": "code",
   "execution_count": 242,
   "metadata": {},
   "outputs": [],
   "source": [
    "del(df['Unnamed: 0.1'])"
   ]
  },
  {
   "cell_type": "markdown",
   "metadata": {},
   "source": [
    "### Convertir la variable reference_unit y category a numerica"
   ]
  },
  {
   "cell_type": "code",
   "execution_count": 173,
   "metadata": {},
   "outputs": [],
   "source": [
    "df=df.replace({'l':0, 'kg':1, 'ud':2, 'docena':3})"
   ]
  },
  {
   "cell_type": "code",
   "execution_count": 174,
   "metadata": {},
   "outputs": [],
   "source": [
    "df=df.replace({'agua':0, 'azucar':1, 'AOVE':2, 'especias':3, 'carne_roja_blanca':4, 'harina':5, 'fruta':6, 'verduras':7, 'cereales':8, 'pan':9, 'frutos_secos':10, 'legumbres':11, 'aceite_vinagre':12, 'huevos':13, 'leche':14, 'mantequilla':15, 'quesos':16, 'pescado_marisco':17, 'carne_blanca':18, 'carne_roja':19, 'embutido':20, 'refrescos':21, 'te_cafe':22, 'merienda':23, 'bolleria':24, 'chocolate':25, 'snacks':26, 'zumo':27, 'alcohol':28, 'postre':29, 'yogures':30, 'precocinado':31, 'sopas':32, 'salsas':33, 'helados':34})"
   ]
  },
  {
   "cell_type": "code",
   "execution_count": 175,
   "metadata": {},
   "outputs": [
    {
     "data": {
      "text/html": [
       "<div>\n",
       "<style scoped>\n",
       "    .dataframe tbody tr th:only-of-type {\n",
       "        vertical-align: middle;\n",
       "    }\n",
       "\n",
       "    .dataframe tbody tr th {\n",
       "        vertical-align: top;\n",
       "    }\n",
       "\n",
       "    .dataframe thead th {\n",
       "        text-align: right;\n",
       "    }\n",
       "</style>\n",
       "<table border=\"1\" class=\"dataframe\">\n",
       "  <thead>\n",
       "    <tr style=\"text-align: right;\">\n",
       "      <th></th>\n",
       "      <th>category</th>\n",
       "      <th>price</th>\n",
       "      <th>reference_price</th>\n",
       "      <th>reference_unit</th>\n",
       "    </tr>\n",
       "  </thead>\n",
       "  <tbody>\n",
       "    <tr>\n",
       "      <th>count</th>\n",
       "      <td>11439.000000</td>\n",
       "      <td>11439.000000</td>\n",
       "      <td>11439.000000</td>\n",
       "      <td>11439.000000</td>\n",
       "    </tr>\n",
       "    <tr>\n",
       "      <th>mean</th>\n",
       "      <td>20.137687</td>\n",
       "      <td>2.977071</td>\n",
       "      <td>8.641229</td>\n",
       "      <td>0.795437</td>\n",
       "    </tr>\n",
       "    <tr>\n",
       "      <th>std</th>\n",
       "      <td>9.135562</td>\n",
       "      <td>2.707400</td>\n",
       "      <td>8.182828</td>\n",
       "      <td>0.493649</td>\n",
       "    </tr>\n",
       "    <tr>\n",
       "      <th>min</th>\n",
       "      <td>0.000000</td>\n",
       "      <td>0.300000</td>\n",
       "      <td>0.240000</td>\n",
       "      <td>0.000000</td>\n",
       "    </tr>\n",
       "    <tr>\n",
       "      <th>25%</th>\n",
       "      <td>15.000000</td>\n",
       "      <td>1.370000</td>\n",
       "      <td>2.863500</td>\n",
       "      <td>1.000000</td>\n",
       "    </tr>\n",
       "    <tr>\n",
       "      <th>50%</th>\n",
       "      <td>21.000000</td>\n",
       "      <td>2.120000</td>\n",
       "      <td>6.260000</td>\n",
       "      <td>1.000000</td>\n",
       "    </tr>\n",
       "    <tr>\n",
       "      <th>75%</th>\n",
       "      <td>28.000000</td>\n",
       "      <td>3.450000</td>\n",
       "      <td>11.620000</td>\n",
       "      <td>1.000000</td>\n",
       "    </tr>\n",
       "    <tr>\n",
       "      <th>max</th>\n",
       "      <td>34.000000</td>\n",
       "      <td>19.150000</td>\n",
       "      <td>57.700000</td>\n",
       "      <td>3.000000</td>\n",
       "    </tr>\n",
       "  </tbody>\n",
       "</table>\n",
       "</div>"
      ],
      "text/plain": [
       "           category         price  reference_price  reference_unit\n",
       "count  11439.000000  11439.000000     11439.000000    11439.000000\n",
       "mean      20.137687      2.977071         8.641229        0.795437\n",
       "std        9.135562      2.707400         8.182828        0.493649\n",
       "min        0.000000      0.300000         0.240000        0.000000\n",
       "25%       15.000000      1.370000         2.863500        1.000000\n",
       "50%       21.000000      2.120000         6.260000        1.000000\n",
       "75%       28.000000      3.450000        11.620000        1.000000\n",
       "max       34.000000     19.150000        57.700000        3.000000"
      ]
     },
     "execution_count": 175,
     "metadata": {},
     "output_type": "execute_result"
    }
   ],
   "source": [
    "df.describe()"
   ]
  },
  {
   "cell_type": "code",
   "execution_count": 177,
   "metadata": {},
   "outputs": [],
   "source": [
    "###### GUARDAR \n",
    "#df.to_csv('agosto_FINAL.csv', sep=',')\n",
    "df=pd.read_csv(\"agosto_FINAL.csv\", sep=',')"
   ]
  },
  {
   "cell_type": "code",
   "execution_count": 179,
   "metadata": {},
   "outputs": [],
   "source": [
    "del(df['Unnamed: 0'])"
   ]
  },
  {
   "cell_type": "markdown",
   "metadata": {},
   "source": [
    "### TOMAMOS 4 DATASET, DEPENDIENDO DE REFERENCE_UNIT"
   ]
  },
  {
   "cell_type": "code",
   "execution_count": 180,
   "metadata": {},
   "outputs": [
    {
     "data": {
      "text/html": [
       "<div>\n",
       "<style scoped>\n",
       "    .dataframe tbody tr th:only-of-type {\n",
       "        vertical-align: middle;\n",
       "    }\n",
       "\n",
       "    .dataframe tbody tr th {\n",
       "        vertical-align: top;\n",
       "    }\n",
       "\n",
       "    .dataframe thead th {\n",
       "        text-align: right;\n",
       "    }\n",
       "</style>\n",
       "<table border=\"1\" class=\"dataframe\">\n",
       "  <thead>\n",
       "    <tr style=\"text-align: right;\">\n",
       "      <th></th>\n",
       "      <th>category</th>\n",
       "      <th>price</th>\n",
       "      <th>reference_price</th>\n",
       "      <th>reference_unit</th>\n",
       "    </tr>\n",
       "  </thead>\n",
       "  <tbody>\n",
       "    <tr>\n",
       "      <th>count</th>\n",
       "      <td>11439.000000</td>\n",
       "      <td>11439.000000</td>\n",
       "      <td>11439.000000</td>\n",
       "      <td>11439.000000</td>\n",
       "    </tr>\n",
       "    <tr>\n",
       "      <th>mean</th>\n",
       "      <td>20.137687</td>\n",
       "      <td>2.977071</td>\n",
       "      <td>8.641229</td>\n",
       "      <td>0.795437</td>\n",
       "    </tr>\n",
       "    <tr>\n",
       "      <th>std</th>\n",
       "      <td>9.135562</td>\n",
       "      <td>2.707400</td>\n",
       "      <td>8.182828</td>\n",
       "      <td>0.493649</td>\n",
       "    </tr>\n",
       "    <tr>\n",
       "      <th>min</th>\n",
       "      <td>0.000000</td>\n",
       "      <td>0.300000</td>\n",
       "      <td>0.240000</td>\n",
       "      <td>0.000000</td>\n",
       "    </tr>\n",
       "    <tr>\n",
       "      <th>25%</th>\n",
       "      <td>15.000000</td>\n",
       "      <td>1.370000</td>\n",
       "      <td>2.863500</td>\n",
       "      <td>1.000000</td>\n",
       "    </tr>\n",
       "    <tr>\n",
       "      <th>50%</th>\n",
       "      <td>21.000000</td>\n",
       "      <td>2.120000</td>\n",
       "      <td>6.260000</td>\n",
       "      <td>1.000000</td>\n",
       "    </tr>\n",
       "    <tr>\n",
       "      <th>75%</th>\n",
       "      <td>28.000000</td>\n",
       "      <td>3.450000</td>\n",
       "      <td>11.620000</td>\n",
       "      <td>1.000000</td>\n",
       "    </tr>\n",
       "    <tr>\n",
       "      <th>max</th>\n",
       "      <td>34.000000</td>\n",
       "      <td>19.150000</td>\n",
       "      <td>57.700000</td>\n",
       "      <td>3.000000</td>\n",
       "    </tr>\n",
       "  </tbody>\n",
       "</table>\n",
       "</div>"
      ],
      "text/plain": [
       "           category         price  reference_price  reference_unit\n",
       "count  11439.000000  11439.000000     11439.000000    11439.000000\n",
       "mean      20.137687      2.977071         8.641229        0.795437\n",
       "std        9.135562      2.707400         8.182828        0.493649\n",
       "min        0.000000      0.300000         0.240000        0.000000\n",
       "25%       15.000000      1.370000         2.863500        1.000000\n",
       "50%       21.000000      2.120000         6.260000        1.000000\n",
       "75%       28.000000      3.450000        11.620000        1.000000\n",
       "max       34.000000     19.150000        57.700000        3.000000"
      ]
     },
     "execution_count": 180,
     "metadata": {},
     "output_type": "execute_result"
    }
   ],
   "source": [
    "df.describe()"
   ]
  },
  {
   "cell_type": "code",
   "execution_count": 181,
   "metadata": {},
   "outputs": [],
   "source": [
    "litros=df[(df['reference_unit'] ==0 )]"
   ]
  },
  {
   "cell_type": "code",
   "execution_count": 182,
   "metadata": {},
   "outputs": [],
   "source": [
    "litros.to_csv('litros.csv', sep=',')"
   ]
  },
  {
   "cell_type": "code",
   "execution_count": 183,
   "metadata": {},
   "outputs": [],
   "source": [
    "kilogramos=df[(df['reference_unit'] ==1 )]"
   ]
  },
  {
   "cell_type": "code",
   "execution_count": 184,
   "metadata": {},
   "outputs": [],
   "source": [
    "kilogramos.to_csv('kilogramos.csv', sep=',')"
   ]
  },
  {
   "cell_type": "code",
   "execution_count": 185,
   "metadata": {},
   "outputs": [],
   "source": [
    "unidad=df[(df['reference_unit'] ==2 )]"
   ]
  },
  {
   "cell_type": "code",
   "execution_count": 186,
   "metadata": {},
   "outputs": [],
   "source": [
    "unidad.to_csv('unidad.csv', sep=',')"
   ]
  },
  {
   "cell_type": "code",
   "execution_count": 187,
   "metadata": {},
   "outputs": [],
   "source": [
    "docena=df[(df['reference_unit'] ==3 )]"
   ]
  },
  {
   "cell_type": "code",
   "execution_count": 188,
   "metadata": {},
   "outputs": [],
   "source": [
    "docena.to_csv('docena.csv', sep=',')"
   ]
  },
  {
   "cell_type": "markdown",
   "metadata": {},
   "source": [
    "### GRÁFICAS"
   ]
  },
  {
   "cell_type": "code",
   "execution_count": 189,
   "metadata": {},
   "outputs": [
    {
     "data": {
      "image/png": "[encoded data removed]",
      "text/plain": [
       "<Figure size 432x288 with 1 Axes>"
      ]
     },
     "metadata": {},
     "output_type": "display_data"
    }
   ],
   "source": [
    "f=df[df[\"supermarket\"]=='carrefour-es'].shape\n",
    "f1=f[0] \n",
    "\n",
    "m=df[df[\"supermarket\"]=='mercadona-es'].shape\n",
    "m1=m[0]\n",
    "\n",
    "e=df[df[\"supermarket\"]=='dia-es'].shape\n",
    "e1=e[0]\n",
    "\n",
    "divisiones=np.array([f1,m1, e1])\n",
    "actividades=np.array(['Carrefour', 'Mercadona', 'Día'])\n",
    "colores=np.array(['lime','turquoise', 'purple'])\n",
    "plt.pie(divisiones, labels=actividades, colors=colores)\n",
    "plt.show()"
   ]
  },
  {
   "cell_type": "markdown",
   "metadata": {},
   "source": [
    "Existe más cantidad de alimentos en el Mercadona y en el Día que en el carrefour"
   ]
  },
  {
   "cell_type": "code",
   "execution_count": 83,
   "metadata": {},
   "outputs": [
    {
     "data": {
      "image/png": "[encoded data removed]",
      "text/plain": [
       "<Figure size 432x288 with 1 Axes>"
      ]
     },
     "metadata": {
      "needs_background": "light"
     },
     "output_type": "display_data"
    }
   ],
   "source": [
    "a=df[(df['supermarket'] == \"mercadona-es\") & (df['category'] =='fruta')].count()\n",
    "a1=a[0]\n",
    "b=df[(df['supermarket'] == \"dia-es\") & (df['category'] =='fruta')].count()\n",
    "b1=b[0]\n",
    "c=df[(df['supermarket'] == \"carrefour-es\") & (df['category'] =='fruta')].count()\n",
    "c1=c[0]\n",
    "\n",
    "\n",
    "eje_x = ['Mercadona', 'Dia', 'Carrefour']\n",
    "eje_y = [a1,b1,c1]\n",
    "plt.bar(eje_x, eje_y)\n",
    "plt.ylabel('Cantidad de productos')\n",
    "plt.xlabel('Supermercados')\n",
    "\n",
    "plt.show()"
   ]
  },
  {
   "cell_type": "code",
   "execution_count": 84,
   "metadata": {},
   "outputs": [
    {
     "data": {
      "image/png": "[encoded data removed]",
      "text/plain": [
       "<Figure size 432x288 with 1 Axes>"
      ]
     },
     "metadata": {
      "needs_background": "light"
     },
     "output_type": "display_data"
    }
   ],
   "source": [
    "a=df[(df['supermarket'] == \"mercadona-es\") & (df['category'] =='fruta')].mean()\n",
    "a1=a[1]\n",
    "b=df[(df['supermarket'] == \"dia-es\") & (df['category'] =='fruta')].mean()\n",
    "b1=b[1]\n",
    "c=df[(df['supermarket'] == \"carrefour-es\") & (df['category'] =='fruta')].mean()\n",
    "c1=c[1]\n",
    "\n",
    "eje_x = ['Mercadona', 'Dia', 'Carrefour']\n",
    "eje_y = [a1,b1,c1]\n",
    "plt.bar(eje_x, eje_y)\n",
    "plt.ylabel('Media del precio de los productos')\n",
    "plt.xlabel('Supermercados')\n",
    "\n",
    "plt.show()"
   ]
  },
  {
   "cell_type": "code",
   "execution_count": null,
   "metadata": {},
   "outputs": [],
   "source": []
  },
  {
   "cell_type": "code",
   "execution_count": null,
   "metadata": {},
   "outputs": [],
   "source": []
  }
 ],
 "metadata": {
  "kernelspec": {
   "display_name": "Python 3",
   "language": "python",
   "name": "python3"
  },
  "language_info": {
   "codemirror_mode": {
    "name": "ipython",
    "version": 3
   },
   "file_extension": ".py",
   "mimetype": "text/x-python",
   "name": "python",
   "nbconvert_exporter": "python",
   "pygments_lexer": "ipython3",
   "version": "3.8.5"
  }
 },
 "nbformat": 4,
 "nbformat_minor": 4
}
